{
 "cells": [
  {
   "cell_type": "code",
   "execution_count": 5,
   "id": "electronic-clause",
   "metadata": {},
   "outputs": [],
   "source": [
    "from glob import glob\n",
    "from os import path\n",
    "from shutil import copyfile\n",
    "from tqdm import tqdm"
   ]
  },
  {
   "cell_type": "code",
   "execution_count": 6,
   "id": "aggressive-second",
   "metadata": {},
   "outputs": [
    {
     "name": "stderr",
     "output_type": "stream",
     "text": [
      "13428it [00:01, 6966.38it/s]\n",
      "18085it [00:02, 7083.47it/s]\n",
      "1773it [00:00, 7373.91it/s]\n",
      "2413it [00:00, 7547.98it/s]\n",
      "1515it [00:00, 6736.46it/s]\n",
      "1932it [00:00, 6749.25it/s]\n"
     ]
    }
   ],
   "source": [
    "DATA_DIR = \"/home/ubuntu/data/preprocessed\"\n",
    "OUT_DIR = \"/home/ubuntu/affect_objective_data\"\n",
    "AFFECTS = ['happy', 'neutral']\n",
    "SPLITS = ['train','val','test']\n",
    "\n",
    "for split in SPLITS:\n",
    "    for affect in AFFECTS:\n",
    "        # sample every 10 frames from each video\n",
    "        files = glob(path.join(DATA_DIR, split, affect, '*/???/*0.jpg'))\n",
    "        for i, file in tqdm(enumerate(files)):\n",
    "            copyfile(file, path.join(OUT_DIR, split, affect, f'{i}.jpg'))"
   ]
  },
  {
   "cell_type": "code",
   "execution_count": null,
   "id": "stylish-shooting",
   "metadata": {},
   "outputs": [],
   "source": []
  },
  {
   "cell_type": "code",
   "execution_count": null,
   "id": "enhanced-suspension",
   "metadata": {},
   "outputs": [],
   "source": []
  }
 ],
 "metadata": {
  "kernelspec": {
   "display_name": "Python 3",
   "language": "python",
   "name": "python3"
  },
  "language_info": {
   "codemirror_mode": {
    "name": "ipython",
    "version": 3
   },
   "file_extension": ".py",
   "mimetype": "text/x-python",
   "name": "python",
   "nbconvert_exporter": "python",
   "pygments_lexer": "ipython3",
   "version": "3.6.13"
  }
 },
 "nbformat": 4,
 "nbformat_minor": 5
}
