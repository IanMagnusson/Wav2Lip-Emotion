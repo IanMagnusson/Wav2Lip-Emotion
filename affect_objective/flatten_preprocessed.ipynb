{
 "cells": [
  {
   "cell_type": "code",
   "execution_count": 7,
   "id": "electronic-clause",
   "metadata": {},
   "outputs": [],
   "source": [
    "from glob import glob\n",
    "from os import path\n",
    "from shutil import copytree\n",
    "from tqdm import tqdm"
   ]
  },
  {
   "cell_type": "code",
   "execution_count": 8,
   "id": "aggressive-second",
   "metadata": {},
   "outputs": [
    {
     "name": "stderr",
     "output_type": "stream",
     "text": [
      "180it [00:05, 34.98it/s]\n",
      "240it [00:06, 39.02it/s]\n"
     ]
    }
   ],
   "source": [
    "DATA_DIR = \"/home/ubuntu/data_preprocessed/latest/\"\n",
    "OUT_DIR = \"/home/ubuntu/data_preprocessed/flattened/\"\n",
    "AFFECTS = ['happy', 'neutral']\n",
    "LEVEL = {'happy':'level_3', 'neutral':'level_1'}\n",
    "\n",
    "for affect in AFFECTS:\n",
    "    # sample every 10 frames from each video W009/video/front/happy/level_3/\n",
    "    files = glob(path.join(DATA_DIR, f'*/*/front/{affect}/{LEVEL[affect]}/*'))\n",
    "#     files = glob(path.join(DATA_DIR, split, affect, '*/???/*0.jpg'))\n",
    "    for i, file in tqdm(enumerate(files)):\n",
    "        actor = file.split('/')[-6]\n",
    "        filename = file.split('/')[-1]\n",
    "        out_path = path.join(OUT_DIR, affect, actor,filename)\n",
    "        copytree(file, out_path)"
   ]
  },
  {
   "cell_type": "code",
   "execution_count": null,
   "id": "stylish-shooting",
   "metadata": {},
   "outputs": [],
   "source": []
  }
 ],
 "metadata": {
  "kernelspec": {
   "display_name": "Python 3",
   "language": "python",
   "name": "python3"
  },
  "language_info": {
   "codemirror_mode": {
    "name": "ipython",
    "version": 3
   },
   "file_extension": ".py",
   "mimetype": "text/x-python",
   "name": "python",
   "nbconvert_exporter": "python",
   "pygments_lexer": "ipython3",
   "version": "3.6.13"
  }
 },
 "nbformat": 4,
 "nbformat_minor": 5
}
