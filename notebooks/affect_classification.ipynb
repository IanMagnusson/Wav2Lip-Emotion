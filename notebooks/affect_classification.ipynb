{
  "nbformat": 4,
  "nbformat_minor": 0,
  "metadata": {
    "colab": {
      "name": "affectClassification.ipynb",
      "provenance": []
    },
    "kernelspec": {
      "name": "python3",
      "display_name": "Python 3"
    },
    "language_info": {
      "name": "python"
    },
    "accelerator": "GPU"
  },
  "cells": [
    {
      "cell_type": "markdown",
      "metadata": {
        "id": "Bn8ThfxApB_M"
      },
      "source": [
        "affect classification with baselines from https://github.com/phamquiluan/ResidualMaskingNetwork#benchmarking_fer2013\n"
      ]
    },
    {
      "cell_type": "code",
      "metadata": {
        "colab": {
          "base_uri": "https://localhost:8080/"
        },
        "id": "noSmGQsmAZVq",
        "outputId": "5b2e59dd-cccc-41f9-b3a3-769c6cef9143"
      },
      "source": [
        "# grab data (https://stackoverflow.com/questions/65099766/is-there-a-way-to-download-data-from-a-public-link-to-google-colab)\n",
        "!gdown --id 13JvaRtXkV_oZ8K-7iOH736OhQ2eAMENB\n",
        "!gdown --id 1f8wUtQj-UatrZtCnkJFcB--X2eJS1m_N"
      ],
      "execution_count": 1,
      "outputs": [
        {
          "output_type": "stream",
          "text": [
            "Downloading...\n",
            "From: https://drive.google.com/uc?id=13JvaRtXkV_oZ8K-7iOH736OhQ2eAMENB\n",
            "To: /content/test.csv\n",
            "30.1MB [00:00, 184MB/s]\n",
            "Downloading...\n",
            "From: https://drive.google.com/uc?id=1f8wUtQj-UatrZtCnkJFcB--X2eJS1m_N\n",
            "To: /content/densenet121_rot30_2019Nov11_14.23\n",
            "28.3MB [00:00, 173MB/s]\n"
          ],
          "name": "stdout"
        }
      ]
    },
    {
      "cell_type": "code",
      "metadata": {
        "id": "LF0kCiO9oX0h"
      },
      "source": [
        "# setup data\n",
        "\n",
        "EMOTION_DICT = {\n",
        "    0: \"angry\",\n",
        "    1: \"disgust\",\n",
        "    2: \"fear\",\n",
        "    3: \"happy\",\n",
        "    4: \"sad\",\n",
        "    5: \"surprise\",\n",
        "    6: \"neutral\",\n",
        "}\n",
        "\n",
        "import os\n",
        "import cv2\n",
        "import numpy as np\n",
        "import pandas as pd\n",
        "from torchvision.transforms import transforms\n",
        "from torch.utils.data import Dataset\n",
        "\n",
        "class Fer2013(Dataset):\n",
        "    def __init__(self, stage, configs):\n",
        "        self._stage = stage\n",
        "        self._configs = configs\n",
        "\n",
        "        self._image_size = (configs[\"image_size\"], configs[\"image_size\"])\n",
        "\n",
        "        self._data = pd.read_csv(\n",
        "            os.path.join(configs[\"data_path\"], \"{}.csv\".format(stage))\n",
        "        )\n",
        "\n",
        "        self._pixels = self._data[\"pixels\"].tolist()\n",
        "        self._emotions = pd.get_dummies(self._data[\"emotion\"])\n",
        "\n",
        "        self._transform = transforms.Compose(\n",
        "            [\n",
        "                transforms.ToPILImage(),\n",
        "                transforms.ToTensor(),\n",
        "            ]\n",
        "        )\n",
        "\n",
        "    def __len__(self):\n",
        "        return len(self._pixels)\n",
        "\n",
        "    def __getitem__(self, idx):\n",
        "        pixels = self._pixels[idx]\n",
        "        pixels = list(map(int, pixels.split(\" \")))\n",
        "        image = np.asarray(pixels).reshape(48, 48)\n",
        "        image = image.astype(np.uint8)\n",
        "\n",
        "        image = cv2.resize(image, self._image_size)\n",
        "        image = np.dstack([image] * 3)\n",
        "\n",
        "        image = self._transform(image)\n",
        "        target = self._emotions.iloc[idx].idxmax()\n",
        "        return image, target\n",
        "\n",
        "# load test data\n",
        "\n",
        "conf = {\n",
        "\t\"data_path\": \"./\",\n",
        "\t\"image_size\": 224\n",
        "}\n",
        "test_set = Fer2013(\"test\", conf)"
      ],
      "execution_count": 2,
      "outputs": []
    },
    {
      "cell_type": "code",
      "metadata": {
        "colab": {
          "base_uri": "https://localhost:8080/"
        },
        "id": "rNDrPNUoBfVr",
        "outputId": "4b5835d9-4e59-4b62-8b6a-b88eb0a68b8c"
      },
      "source": [
        "# load model\n",
        "\n",
        "import torch\n",
        "import torch.nn as nn\n",
        "from torchvision import models\n",
        "\n",
        "model_ft = models.densenet121()\n",
        "num_ftrs = model_ft.classifier.in_features\n",
        "model_ft.classifier = nn.Linear(num_ftrs, len(EMOTION_DICT)) \n",
        "input_size = 224\n",
        "model_ft.load_state_dict(torch.load(\"./densenet121_rot30_2019Nov11_14.23\")['net'])"
      ],
      "execution_count": 3,
      "outputs": [
        {
          "output_type": "execute_result",
          "data": {
            "text/plain": [
              "<All keys matched successfully>"
            ]
          },
          "metadata": {
            "tags": []
          },
          "execution_count": 3
        }
      ]
    },
    {
      "cell_type": "code",
      "metadata": {
        "colab": {
          "base_uri": "https://localhost:8080/",
          "height": 258
        },
        "id": "jvp5h65bqcg0",
        "outputId": "f9381b59-dede-4ccb-dab4-5ae852d40323"
      },
      "source": [
        "# choose an image and visualize it\n",
        "\n",
        "EXAMPLE_NUM = 128 # 128 and 11 are good examples of happy\n",
        "\n",
        "from PIL import Image\n",
        "import numpy as np\n",
        "\n",
        "data_point = test_set[EXAMPLE_NUM]\n",
        "print(\"label:\", EMOTION_DICT[data_point[1]])\n",
        "\n",
        "# for visualization convert from float 0 to 1 into uint8 0 254 and move channel dim to end\n",
        "img = np.moveaxis((data_point[0].numpy()* 254).astype('uint8'), 0, -1)\n",
        "Image.fromarray(img, 'RGB')"
      ],
      "execution_count": 4,
      "outputs": [
        {
          "output_type": "stream",
          "text": [
            "label: happy\n"
          ],
          "name": "stdout"
        },
        {
          "output_type": "execute_result",
          "data": {
            "image/png": "[encoded data removed]",
            "text/plain": [
              "<PIL.Image.Image image mode=RGB size=224x224 at 0x7FD994D76E50>"
            ]
          },
          "metadata": {
            "tags": []
          },
          "execution_count": 4
        }
      ]
    },
    {
      "cell_type": "code",
      "metadata": {
        "colab": {
          "base_uri": "https://localhost:8080/"
        },
        "id": "f3m-tAJL0Cdq",
        "outputId": "79c9715c-211d-4ee7-9979-5c4284d71590"
      },
      "source": [
        "# inference\n",
        "import torch.nn.functional as F\n",
        "\n",
        "model_ft.eval()\n",
        "with torch.no_grad():\n",
        "  logits = model_ft(data_point[0].unsqueeze(0))\n",
        "  probs = F.softmax(logits.squeeze(), dim = 0)\n",
        "  probs, preds = probs.topk(len(probs))\n",
        "\n",
        "for i, (prob, pred) in enumerate(zip(probs, preds)):\n",
        "  print(\"prediciton\", i +1)\n",
        "  print(EMOTION_DICT[pred.item()])\n",
        "  print(prob.item())\n",
        "  print()"
      ],
      "execution_count": 5,
      "outputs": [
        {
          "output_type": "stream",
          "text": [
            "prediciton 1\n",
            "happy\n",
            "0.9959180951118469\n",
            "\n",
            "prediciton 2\n",
            "neutral\n",
            "0.00304922997020185\n",
            "\n",
            "prediciton 3\n",
            "surprise\n",
            "0.000994177651591599\n",
            "\n",
            "prediciton 4\n",
            "fear\n",
            "2.7530830266186967e-05\n",
            "\n",
            "prediciton 5\n",
            "angry\n",
            "5.766171398136066e-06\n",
            "\n",
            "prediciton 6\n",
            "sad\n",
            "3.6869162158836843e-06\n",
            "\n",
            "prediciton 7\n",
            "disgust\n",
            "1.5012176390882814e-06\n",
            "\n"
          ],
          "name": "stdout"
        }
      ]
    },
    {
      "cell_type": "code",
      "metadata": {
        "id": "5Up_2FmFBH75"
      },
      "source": [
        ""
      ],
      "execution_count": 5,
      "outputs": []
    }
  ]
}